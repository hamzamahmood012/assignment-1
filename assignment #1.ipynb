{
 "cells": [
  {
   "cell_type": "code",
   "execution_count": 3,
   "metadata": {},
   "outputs": [
    {
     "name": "stdout",
     "output_type": "stream",
     "text": [
      "Twinkle, twinkle, little, star, \n",
      " \tHow I wonder what you are!\n",
      " \t \tup above the world so high,\n",
      " \t \tlike a diomond in the sky,\n",
      "Twinkle, twinkle, little, star,\n",
      " \tHow I wonder what you are\n"
     ]
    }
   ],
   "source": [
    "#q1\n",
    "a1 = \"Twinkle, twinkle, little, star,\"\n",
    "a2 = \"How I wonder what you are!\"\n",
    "a3 = \"up above the world so high,\"\n",
    "a4 = \"like a diomond in the sky,\"\n",
    "a5 = \"Twinkle, twinkle, little, star,\"\n",
    "a6 = \"How I wonder what you are\"\n",
    "print(a1 + \" \" + \"\\n \\t\" + a2 + \"\\n \\t \\t\" + a3 + \"\\n \\t \\t\" + a4 + \"\\n\" + a5 + \"\\n \\t\" + a6)"
   ]
  },
  {
   "cell_type": "code",
   "execution_count": 4,
   "metadata": {},
   "outputs": [
    {
     "name": "stdout",
     "output_type": "stream",
     "text": [
      "3.7.4 (default, Aug  9 2019, 18:22:51) [MSC v.1915 32 bit (Intel)]\n"
     ]
    }
   ],
   "source": [
    "#q2\n",
    "import sys\n",
    "print(sys.version)"
   ]
  },
  {
   "cell_type": "code",
   "execution_count": 1,
   "metadata": {},
   "outputs": [
    {
     "name": "stdout",
     "output_type": "stream",
     "text": [
      "2019-11-03 09:00:16.500527\n"
     ]
    }
   ],
   "source": [
    "#q3\n",
    "from datetime import datetime\n",
    "dt = datetime.now()\n",
    "print(dt)"
   ]
  },
  {
   "cell_type": "code",
   "execution_count": 2,
   "metadata": {},
   "outputs": [
    {
     "name": "stdout",
     "output_type": "stream",
     "text": [
      "enter the radius of circle:5\n",
      "area of circle is : 78.57142857142857\n"
     ]
    }
   ],
   "source": [
    "#q4\n",
    "radius = int(input(\"enter the radius of circle:\"))\n",
    "area = (22/7) *float(radius**2)\n",
    "print(\"area of circle is :\" ,area)"
   ]
  },
  {
   "cell_type": "code",
   "execution_count": 2,
   "metadata": {},
   "outputs": [
    {
     "name": "stdout",
     "output_type": "stream",
     "text": [
      "input your first name:ali\n",
      "input your last name:raza\n",
      "raza ali\n"
     ]
    }
   ],
   "source": [
    "#q5\n",
    "fname =input(\"input your first name:\")\n",
    "lname = input(\"input your last name:\")\n",
    "print(lname + \" \" + fname)"
   ]
  },
  {
   "cell_type": "code",
   "execution_count": 3,
   "metadata": {},
   "outputs": [
    {
     "name": "stdout",
     "output_type": "stream",
     "text": [
      "enter number 1 :34\n",
      "enter number 2 :56\n",
      "34 + 56 = 90\n"
     ]
    }
   ],
   "source": [
    "#q6\n",
    "num1 = int(input(\"enter number 1 :\"))\n",
    "num2 = int(input(\"enter number 2 :\"))\n",
    "result = num1 + num2\n",
    "print(\"{0} + {1} = {2}\" . format(num1,num2,result))"
   ]
  },
  {
   "cell_type": "code",
   "execution_count": null,
   "metadata": {},
   "outputs": [],
   "source": []
  }
 ],
 "metadata": {
  "kernelspec": {
   "display_name": "Python 3",
   "language": "python",
   "name": "python3"
  },
  "language_info": {
   "codemirror_mode": {
    "name": "ipython",
    "version": 3
   },
   "file_extension": ".py",
   "mimetype": "text/x-python",
   "name": "python",
   "nbconvert_exporter": "python",
   "pygments_lexer": "ipython3",
   "version": "3.7.4"
  }
 },
 "nbformat": 4,
 "nbformat_minor": 2
}
